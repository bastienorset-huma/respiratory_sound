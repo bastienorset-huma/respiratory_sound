{
 "cells": [
  {
   "cell_type": "code",
   "execution_count": 2,
   "metadata": {},
   "outputs": [],
   "source": [
    "import os \n",
    "import pandas as pd\n",
    "import numpy as np\n",
    "\n",
    "import IPython.display as ipd\n",
    "import warnings\n",
    "import librosa\n",
    "import librosa.display\n",
    "import librosa.feature\n",
    "import matplotlib.pyplot as plt\n",
    "from tqdm import tqdm\n",
    "import utils\n",
    "\n",
    "import processing\n",
    "import event_manager\n",
    "import model_training\n",
    "import epoching\n",
    "\n",
    "warnings.filterwarnings('ignore')"
   ]
  },
  {
   "cell_type": "code",
   "execution_count": 3,
   "metadata": {},
   "outputs": [
    {
     "name": "stdout",
     "output_type": "stream",
     "text": [
      "Found 920 recording files\n"
     ]
    }
   ],
   "source": [
    "audio_folder = '../../data/ICBHI_final_database'\n",
    "list_audio_files = processing.get_list_recording(audio_folder)\n",
    "print('Found {} recording files'.format(len(list_audio_files)))"
   ]
  },
  {
   "cell_type": "code",
   "execution_count": 4,
   "metadata": {},
   "outputs": [
    {
     "name": "stderr",
     "output_type": "stream",
     "text": [
      "100%|██████████| 920/920 [03:50<00:00,  3.98it/s]\n"
     ]
    }
   ],
   "source": [
    "label_list = []\n",
    "epochs_list = []\n",
    "n_fft=400\n",
    "win_length = 0.100\n",
    "list_series = list()\n",
    "for audio_file in tqdm(list_audio_files):\n",
    "    data_file = processing.load_file_from_recording_name(audio_folder,audio_file)\n",
    "    data_filtered,df_label = processing.preprocess_data(data_file,annotations='text')\n",
    "    data_feature= processing.apply_stft(data_filtered,n_fft=400,center=False)\n",
    "    epochs_,label_ = epoching.get_epoching_from_label(data_feature,df_label,mean=False)\n",
    "    epochs_list.append(epochs_)\n",
    "    label_list.append(label_)"
   ]
  },
  {
   "cell_type": "code",
   "execution_count": 5,
   "metadata": {},
   "outputs": [],
   "source": [
    "epoch_final, df_label = model_training.prepare_data_time_for_modeling(epochs_list,label_list,list_audio_files)"
   ]
  },
  {
   "cell_type": "code",
   "execution_count": 8,
   "metadata": {},
   "outputs": [
    {
     "data": {
      "text/plain": [
       "(6898, 201, 646)"
      ]
     },
     "execution_count": 8,
     "metadata": {},
     "output_type": "execute_result"
    }
   ],
   "source": [
    "epoch_final.shape"
   ]
  },
  {
   "cell_type": "code",
   "execution_count": 10,
   "metadata": {},
   "outputs": [],
   "source": [
    "import pickle \n",
    "X = {'feature': epoch_final,\n",
    "     'label':df_label}\n",
    "file = '../../data/data_model/data_sound.pickle'\n",
    "with open(file, 'wb') as handle:\n",
    "    pickle.dump(X, handle)"
   ]
  },
  {
   "cell_type": "code",
   "execution_count": null,
   "metadata": {},
   "outputs": [],
   "source": []
  }
 ],
 "metadata": {
  "kernelspec": {
   "display_name": "Python 3.10.6 ('.venv': poetry)",
   "language": "python",
   "name": "python3"
  },
  "language_info": {
   "codemirror_mode": {
    "name": "ipython",
    "version": 3
   },
   "file_extension": ".py",
   "mimetype": "text/x-python",
   "name": "python",
   "nbconvert_exporter": "python",
   "pygments_lexer": "ipython3",
   "version": "3.10.6"
  },
  "orig_nbformat": 4,
  "vscode": {
   "interpreter": {
    "hash": "740509af84ee3128d88333a1002968296ddbc89ee8b431d0c0cb3d6651593e8e"
   }
  }
 },
 "nbformat": 4,
 "nbformat_minor": 2
}
