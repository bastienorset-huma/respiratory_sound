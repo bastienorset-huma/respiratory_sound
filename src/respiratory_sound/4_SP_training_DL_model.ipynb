{
 "cells": [
  {
   "cell_type": "code",
   "execution_count": 119,
   "metadata": {},
   "outputs": [],
   "source": [
    "import os \n",
    "import pandas as pd\n",
    "import pickle\n",
    "import tensorflow as tf\n",
    "import numpy as np\n",
    "\n",
    "from sklearn.preprocessing import LabelEncoder\n",
    "from sklearn.model_selection import train_test_split\n",
    "\n",
    "import tensorflow as tf\n",
    "from tensorflow.keras import utils \n",
    "from tensorflow.keras import layers\n",
    "from tensorflow.keras import models"
   ]
  },
  {
   "cell_type": "code",
   "execution_count": 120,
   "metadata": {},
   "outputs": [],
   "source": [
    "file = '../../data/data_model/data_epoching_stft_new.ftr'"
   ]
  },
  {
   "cell_type": "code",
   "execution_count": 121,
   "metadata": {},
   "outputs": [],
   "source": [
    "if file.endswith('.csv'):\n",
    "    data= pd.read_csv(file,index_col=0)\n",
    "elif file.endswith('.ftr'):\n",
    "    data= pd.read_feather(file)\n",
    "print(data.shape)\n",
    "data.label.value_counts()"
   ]
  },
  {
   "cell_type": "code",
   "execution_count": null,
   "metadata": {},
   "outputs": [],
   "source": [
    "data = model_training.select_n_sample(data,80000)\n",
    "data.label.value_counts()"
   ]
  },
  {
   "cell_type": "code",
   "execution_count": null,
   "metadata": {},
   "outputs": [],
   "source": [
    "X = data.drop(columns='label').to_numpy()\n",
    "y = data['label'].to_numpy()"
   ]
  },
  {
   "cell_type": "code",
   "execution_count": 122,
   "metadata": {},
   "outputs": [],
   "source": [
    "X = np.reshape(X, (*X.shape,1))"
   ]
  },
  {
   "cell_type": "code",
   "execution_count": 123,
   "metadata": {},
   "outputs": [],
   "source": [
    "X_train, X_test, y_train, y_test = train_test_split(X, y,stratify=y, test_size=0.33, random_state=42)\n",
    "print(X_train.shape,y_train.shape)\n",
    "print(X_test.shape,y_test.shape)"
   ]
  },
  {
   "cell_type": "markdown",
   "metadata": {},
   "source": [
    "<h1> Deep Learning Model<h1>"
   ]
  },
  {
   "cell_type": "code",
   "execution_count": 126,
   "metadata": {},
   "outputs": [
    {
     "name": "stdout",
     "output_type": "stream",
     "text": [
      "(77, 674, 1) 3\n",
      "Model: \"sequential_14\"\n",
      "_________________________________________________________________\n",
      " Layer (type)                Output Shape              Param #   \n",
      "=================================================================\n",
      " conv2d_123 (Conv2D)         (None, 75, 672, 16)       160       \n",
      "                                                                 \n",
      " max_pooling2d_94 (MaxPoolin  (None, 37, 336, 16)      0         \n",
      " g2D)                                                            \n",
      "                                                                 \n",
      " dropout_55 (Dropout)        (None, 37, 336, 16)       0         \n",
      "                                                                 \n",
      " conv2d_124 (Conv2D)         (None, 35, 334, 64)       9280      \n",
      "                                                                 \n",
      " max_pooling2d_95 (MaxPoolin  (None, 17, 167, 64)      0         \n",
      " g2D)                                                            \n",
      "                                                                 \n",
      " dropout_56 (Dropout)        (None, 17, 167, 64)       0         \n",
      "                                                                 \n",
      " conv2d_125 (Conv2D)         (None, 15, 165, 128)      73856     \n",
      "                                                                 \n",
      " dropout_57 (Dropout)        (None, 15, 165, 128)      0         \n",
      "                                                                 \n",
      " global_max_pooling2d_27 (Gl  (None, 128)              0         \n",
      " obalMaxPooling2D)                                               \n",
      "                                                                 \n",
      " dense_40 (Dense)            (None, 3)                 387       \n",
      "                                                                 \n",
      "=================================================================\n",
      "Total params: 83,683\n",
      "Trainable params: 83,683\n",
      "Non-trainable params: 0\n",
      "_________________________________________________________________\n"
     ]
    }
   ],
   "source": [
    "input_shape = X.shape[1:]\n",
    "n_classes= len(le.classes_)\n",
    "print(input_shape,n_classes)\n",
    "\n",
    "filter_size = 3\n",
    "# Construct model \n",
    "model = models.Sequential()\n",
    "model.add(layers.Conv2D(filters=16, kernel_size=filter_size,\n",
    "                 input_shape=input_shape, activation='relu'))\n",
    "model.add(layers.MaxPooling2D(2))\n",
    "model.add(layers.Dropout(0.5))\n",
    "model.add(layers.Conv2D(filters=64, kernel_size=filter_size,\n",
    "                 input_shape=input_shape, activation='relu'))\n",
    "model.add(layers.MaxPooling2D(2))\n",
    "model.add(layers.Dropout(0.5))\n",
    "model.add(layers.Conv2D(filters=128, kernel_size=filter_size,\n",
    "                 input_shape=input_shape, activation='relu'))\n",
    "model.add(layers.Dropout(0.5))\n",
    "model.add(layers.GlobalMaxPooling2D())\n",
    "model.add(layers.Dense(3, activation='softmax')) \n",
    "model.summary()"
   ]
  },
  {
   "cell_type": "code",
   "execution_count": 128,
   "metadata": {},
   "outputs": [
    {
     "name": "stdout",
     "output_type": "stream",
     "text": [
      "Epoch 1/100\n",
      "23/23 [==============================] - 9s 389ms/step - loss: 114.0464 - accuracy: 0.7323 - val_loss: 22.8160 - val_accuracy: 0.8641\n",
      "Epoch 2/100\n",
      "23/23 [==============================] - 8s 354ms/step - loss: 85.2292 - accuracy: 0.7459 - val_loss: 14.4403 - val_accuracy: 0.8641\n",
      "Epoch 3/100\n",
      "23/23 [==============================] - 8s 355ms/step - loss: 34.1208 - accuracy: 0.7690 - val_loss: 9.2735 - val_accuracy: 0.3750\n",
      "Epoch 4/100\n",
      "23/23 [==============================] - 8s 366ms/step - loss: 25.8702 - accuracy: 0.7663 - val_loss: 18.9377 - val_accuracy: 0.0543\n",
      "Epoch 5/100\n",
      "23/23 [==============================] - 8s 368ms/step - loss: 18.2377 - accuracy: 0.7717 - val_loss: 11.0905 - val_accuracy: 0.1033\n",
      "Epoch 6/100\n",
      "23/23 [==============================] - 8s 361ms/step - loss: 16.9547 - accuracy: 0.7772 - val_loss: 4.2033 - val_accuracy: 0.3424\n",
      "Epoch 7/100\n",
      "23/23 [==============================] - 9s 385ms/step - loss: 13.9985 - accuracy: 0.7663 - val_loss: 2.5951 - val_accuracy: 0.5163\n",
      "Epoch 8/100\n",
      "23/23 [==============================] - 9s 383ms/step - loss: 10.5793 - accuracy: 0.7826 - val_loss: 1.7266 - val_accuracy: 0.6359\n",
      "Epoch 9/100\n",
      "23/23 [==============================] - 9s 390ms/step - loss: 10.5688 - accuracy: 0.7690 - val_loss: 2.6084 - val_accuracy: 0.4457\n",
      "Epoch 10/100\n",
      "23/23 [==============================] - 9s 401ms/step - loss: 10.2545 - accuracy: 0.7717 - val_loss: 1.7918 - val_accuracy: 0.3859\n",
      "Epoch 11/100\n",
      "23/23 [==============================] - 9s 372ms/step - loss: 7.9318 - accuracy: 0.7853 - val_loss: 1.8618 - val_accuracy: 0.2989\n",
      "Epoch 12/100\n",
      "23/23 [==============================] - 10s 451ms/step - loss: 7.0156 - accuracy: 0.7663 - val_loss: 1.1076 - val_accuracy: 0.4620\n",
      "Epoch 13/100\n",
      "23/23 [==============================] - 9s 395ms/step - loss: 6.2289 - accuracy: 0.7867 - val_loss: 1.2777 - val_accuracy: 0.3804\n",
      "Epoch 14/100\n",
      "23/23 [==============================] - 9s 382ms/step - loss: 6.1195 - accuracy: 0.7690 - val_loss: 1.9351 - val_accuracy: 0.2337\n",
      "Epoch 15/100\n",
      "23/23 [==============================] - 9s 383ms/step - loss: 5.0455 - accuracy: 0.7758 - val_loss: 1.9655 - val_accuracy: 0.1957\n",
      "Epoch 16/100\n",
      "23/23 [==============================] - 8s 370ms/step - loss: 4.2861 - accuracy: 0.7704 - val_loss: 1.8805 - val_accuracy: 0.1848\n",
      "Epoch 17/100\n",
      "23/23 [==============================] - 8s 370ms/step - loss: 3.8962 - accuracy: 0.7690 - val_loss: 1.1637 - val_accuracy: 0.2717\n",
      "Epoch 18/100\n",
      "23/23 [==============================] - 8s 366ms/step - loss: 3.5572 - accuracy: 0.7636 - val_loss: 1.5020 - val_accuracy: 0.2337\n",
      "Epoch 19/100\n",
      "23/23 [==============================] - 8s 367ms/step - loss: 3.3716 - accuracy: 0.7758 - val_loss: 1.3273 - val_accuracy: 0.2500\n",
      "Epoch 20/100\n",
      "23/23 [==============================] - 9s 373ms/step - loss: 2.8803 - accuracy: 0.7745 - val_loss: 1.2435 - val_accuracy: 0.2880\n",
      "Epoch 21/100\n",
      "23/23 [==============================] - 8s 361ms/step - loss: 3.3278 - accuracy: 0.7758 - val_loss: 1.1945 - val_accuracy: 0.3098\n",
      "Epoch 22/100\n",
      "23/23 [==============================] - 8s 356ms/step - loss: 2.9920 - accuracy: 0.7690 - val_loss: 1.0063 - val_accuracy: 0.3967\n",
      "Epoch 23/100\n",
      "23/23 [==============================] - 9s 374ms/step - loss: 2.6150 - accuracy: 0.7636 - val_loss: 0.7033 - val_accuracy: 0.8315\n",
      "Epoch 24/100\n",
      "23/23 [==============================] - 9s 372ms/step - loss: 2.5329 - accuracy: 0.7908 - val_loss: 0.7570 - val_accuracy: 0.7717\n",
      "Epoch 25/100\n",
      "23/23 [==============================] - 8s 368ms/step - loss: 2.2667 - accuracy: 0.7962 - val_loss: 0.7117 - val_accuracy: 0.8587\n",
      "Epoch 26/100\n",
      "23/23 [==============================] - 9s 378ms/step - loss: 2.4060 - accuracy: 0.7677 - val_loss: 0.8014 - val_accuracy: 0.7446\n",
      "Epoch 27/100\n",
      "23/23 [==============================] - 9s 375ms/step - loss: 1.9937 - accuracy: 0.7989 - val_loss: 0.7808 - val_accuracy: 0.7663\n",
      "Epoch 28/100\n",
      "23/23 [==============================] - 9s 379ms/step - loss: 1.9268 - accuracy: 0.7799 - val_loss: 0.8011 - val_accuracy: 0.8098\n",
      "Epoch 29/100\n",
      "23/23 [==============================] - 10s 417ms/step - loss: 2.0015 - accuracy: 0.7894 - val_loss: 0.7863 - val_accuracy: 0.8641\n",
      "Epoch 30/100\n",
      "23/23 [==============================] - 9s 393ms/step - loss: 1.8683 - accuracy: 0.7663 - val_loss: 0.6681 - val_accuracy: 0.8641\n",
      "Epoch 31/100\n",
      "23/23 [==============================] - 9s 392ms/step - loss: 1.5648 - accuracy: 0.7867 - val_loss: 0.6704 - val_accuracy: 0.8641\n",
      "Epoch 32/100\n",
      "23/23 [==============================] - 9s 377ms/step - loss: 1.6984 - accuracy: 0.7962 - val_loss: 0.6774 - val_accuracy: 0.8641\n",
      "Epoch 33/100\n",
      "23/23 [==============================] - 9s 374ms/step - loss: 1.9822 - accuracy: 0.7799 - val_loss: 0.6309 - val_accuracy: 0.8641\n",
      "Epoch 34/100\n",
      "23/23 [==============================] - 9s 398ms/step - loss: 1.4784 - accuracy: 0.7799 - val_loss: 0.6573 - val_accuracy: 0.8641\n",
      "Epoch 35/100\n",
      "23/23 [==============================] - 9s 383ms/step - loss: 1.4446 - accuracy: 0.7880 - val_loss: 0.6646 - val_accuracy: 0.8641\n",
      "Epoch 36/100\n",
      "23/23 [==============================] - 9s 381ms/step - loss: 1.5764 - accuracy: 0.7745 - val_loss: 0.6274 - val_accuracy: 0.8641\n",
      "Epoch 37/100\n",
      "23/23 [==============================] - 9s 377ms/step - loss: 1.3989 - accuracy: 0.7908 - val_loss: 0.6207 - val_accuracy: 0.8641\n",
      "Epoch 38/100\n",
      "23/23 [==============================] - 9s 380ms/step - loss: 1.2641 - accuracy: 0.8003 - val_loss: 0.6470 - val_accuracy: 0.8641\n",
      "Epoch 39/100\n",
      "23/23 [==============================] - 8s 363ms/step - loss: 1.1142 - accuracy: 0.7948 - val_loss: 0.6411 - val_accuracy: 0.8641\n",
      "Epoch 40/100\n",
      "23/23 [==============================] - 8s 359ms/step - loss: 1.1311 - accuracy: 0.7853 - val_loss: 0.6335 - val_accuracy: 0.8641\n",
      "Epoch 41/100\n",
      "23/23 [==============================] - 9s 371ms/step - loss: 1.0839 - accuracy: 0.7880 - val_loss: 0.6213 - val_accuracy: 0.8641\n",
      "Epoch 42/100\n",
      "23/23 [==============================] - 9s 373ms/step - loss: 0.9844 - accuracy: 0.8003 - val_loss: 0.6360 - val_accuracy: 0.8641\n",
      "Epoch 43/100\n",
      "23/23 [==============================] - 8s 368ms/step - loss: 0.9511 - accuracy: 0.7976 - val_loss: 0.6408 - val_accuracy: 0.8641\n",
      "Epoch 44/100\n",
      "23/23 [==============================] - 9s 371ms/step - loss: 1.0813 - accuracy: 0.8016 - val_loss: 0.6351 - val_accuracy: 0.8641\n",
      "Epoch 45/100\n",
      "23/23 [==============================] - 9s 379ms/step - loss: 0.9736 - accuracy: 0.8152 - val_loss: 0.6373 - val_accuracy: 0.8641\n",
      "Epoch 46/100\n",
      "23/23 [==============================] - 10s 428ms/step - loss: 0.9848 - accuracy: 0.7989 - val_loss: 0.6120 - val_accuracy: 0.8641\n",
      "Epoch 47/100\n",
      "23/23 [==============================] - 8s 369ms/step - loss: 0.9422 - accuracy: 0.7867 - val_loss: 0.5955 - val_accuracy: 0.8641\n",
      "Epoch 48/100\n",
      "23/23 [==============================] - 8s 369ms/step - loss: 0.9098 - accuracy: 0.8098 - val_loss: 0.6125 - val_accuracy: 0.8641\n",
      "Epoch 49/100\n",
      "23/23 [==============================] - 8s 364ms/step - loss: 0.9113 - accuracy: 0.8071 - val_loss: 0.6391 - val_accuracy: 0.8641\n",
      "Epoch 50/100\n",
      "23/23 [==============================] - 8s 356ms/step - loss: 0.9757 - accuracy: 0.8030 - val_loss: 0.6440 - val_accuracy: 0.8641\n",
      "Epoch 51/100\n",
      "23/23 [==============================] - 8s 362ms/step - loss: 0.8493 - accuracy: 0.8193 - val_loss: 0.6532 - val_accuracy: 0.8641\n",
      "Epoch 52/100\n",
      "23/23 [==============================] - 8s 365ms/step - loss: 0.7522 - accuracy: 0.8234 - val_loss: 0.6400 - val_accuracy: 0.8641\n",
      "Epoch 53/100\n",
      "23/23 [==============================] - 9s 408ms/step - loss: 0.8059 - accuracy: 0.8111 - val_loss: 0.6615 - val_accuracy: 0.8641\n",
      "Epoch 54/100\n",
      "23/23 [==============================] - 12s 523ms/step - loss: 0.8002 - accuracy: 0.8111 - val_loss: 0.6909 - val_accuracy: 0.8641\n",
      "Epoch 55/100\n",
      "23/23 [==============================] - 9s 376ms/step - loss: 0.7602 - accuracy: 0.8003 - val_loss: 0.7303 - val_accuracy: 0.8641\n",
      "Epoch 56/100\n",
      "23/23 [==============================] - 9s 394ms/step - loss: 0.7924 - accuracy: 0.8111 - val_loss: 0.7420 - val_accuracy: 0.8641\n",
      "Epoch 57/100\n",
      "23/23 [==============================] - 9s 385ms/step - loss: 0.7384 - accuracy: 0.8179 - val_loss: 0.7500 - val_accuracy: 0.8641\n",
      "Epoch 58/100\n",
      "23/23 [==============================] - 9s 394ms/step - loss: 0.8185 - accuracy: 0.8030 - val_loss: 0.7371 - val_accuracy: 0.8641\n",
      "Epoch 59/100\n",
      "23/23 [==============================] - 16s 731ms/step - loss: 0.7148 - accuracy: 0.8234 - val_loss: 0.7402 - val_accuracy: 0.8641\n",
      "Epoch 60/100\n",
      "23/23 [==============================] - 9s 408ms/step - loss: 0.6616 - accuracy: 0.8274 - val_loss: 0.7833 - val_accuracy: 0.8641\n",
      "Epoch 61/100\n",
      "23/23 [==============================] - 8s 367ms/step - loss: 0.6941 - accuracy: 0.8179 - val_loss: 0.7608 - val_accuracy: 0.8641\n",
      "Epoch 62/100\n",
      "23/23 [==============================] - 8s 359ms/step - loss: 0.6463 - accuracy: 0.8247 - val_loss: 0.7600 - val_accuracy: 0.8641\n",
      "Epoch 63/100\n",
      "23/23 [==============================] - 9s 377ms/step - loss: 0.7063 - accuracy: 0.8193 - val_loss: 0.7573 - val_accuracy: 0.8641\n",
      "Epoch 64/100\n",
      "23/23 [==============================] - 9s 403ms/step - loss: 0.6616 - accuracy: 0.8247 - val_loss: 0.7797 - val_accuracy: 0.8641\n",
      "Epoch 65/100\n",
      "23/23 [==============================] - 8s 352ms/step - loss: 0.6678 - accuracy: 0.8261 - val_loss: 0.7797 - val_accuracy: 0.8641\n",
      "Epoch 66/100\n",
      "23/23 [==============================] - 8s 353ms/step - loss: 0.6112 - accuracy: 0.8370 - val_loss: 0.7977 - val_accuracy: 0.8641\n",
      "Epoch 67/100\n",
      "23/23 [==============================] - 8s 356ms/step - loss: 0.6309 - accuracy: 0.8356 - val_loss: 0.7966 - val_accuracy: 0.8641\n",
      "Epoch 68/100\n",
      "23/23 [==============================] - 8s 357ms/step - loss: 0.6482 - accuracy: 0.8220 - val_loss: 0.7805 - val_accuracy: 0.8641\n",
      "Epoch 69/100\n",
      "23/23 [==============================] - 8s 358ms/step - loss: 0.6261 - accuracy: 0.8356 - val_loss: 0.7943 - val_accuracy: 0.8641\n",
      "Epoch 70/100\n",
      "23/23 [==============================] - 8s 355ms/step - loss: 0.6361 - accuracy: 0.8274 - val_loss: 0.7817 - val_accuracy: 0.8641\n",
      "Epoch 71/100\n",
      "23/23 [==============================] - 8s 348ms/step - loss: 0.6129 - accuracy: 0.8356 - val_loss: 0.8217 - val_accuracy: 0.8641\n",
      "Epoch 72/100\n",
      "23/23 [==============================] - 8s 357ms/step - loss: 0.6138 - accuracy: 0.8397 - val_loss: 0.8083 - val_accuracy: 0.8641\n",
      "Epoch 73/100\n",
      "23/23 [==============================] - 8s 345ms/step - loss: 0.5782 - accuracy: 0.8274 - val_loss: 0.7909 - val_accuracy: 0.8641\n",
      "Epoch 74/100\n",
      "23/23 [==============================] - 8s 346ms/step - loss: 0.6278 - accuracy: 0.8383 - val_loss: 0.8154 - val_accuracy: 0.8641\n",
      "Epoch 75/100\n",
      "23/23 [==============================] - 8s 347ms/step - loss: 0.5853 - accuracy: 0.8274 - val_loss: 0.8045 - val_accuracy: 0.8641\n",
      "Epoch 76/100\n",
      "23/23 [==============================] - 8s 347ms/step - loss: 0.5574 - accuracy: 0.8451 - val_loss: 0.8317 - val_accuracy: 0.8641\n",
      "Epoch 77/100\n",
      "23/23 [==============================] - 8s 346ms/step - loss: 0.6015 - accuracy: 0.8329 - val_loss: 0.8344 - val_accuracy: 0.8641\n",
      "Epoch 78/100\n",
      "23/23 [==============================] - 8s 345ms/step - loss: 0.5703 - accuracy: 0.8329 - val_loss: 0.8195 - val_accuracy: 0.8641\n",
      "Epoch 79/100\n",
      "23/23 [==============================] - 8s 347ms/step - loss: 0.6057 - accuracy: 0.8220 - val_loss: 0.8312 - val_accuracy: 0.8641\n",
      "Epoch 80/100\n",
      "23/23 [==============================] - 8s 355ms/step - loss: 0.5359 - accuracy: 0.8451 - val_loss: 0.8415 - val_accuracy: 0.8641\n",
      "Epoch 81/100\n",
      "23/23 [==============================] - 8s 347ms/step - loss: 0.5848 - accuracy: 0.8397 - val_loss: 0.8426 - val_accuracy: 0.8641\n",
      "Epoch 82/100\n",
      "23/23 [==============================] - 8s 344ms/step - loss: 0.5761 - accuracy: 0.8356 - val_loss: 0.8329 - val_accuracy: 0.8641\n",
      "Epoch 83/100\n",
      "23/23 [==============================] - 8s 344ms/step - loss: 0.5525 - accuracy: 0.8397 - val_loss: 0.8577 - val_accuracy: 0.8641\n",
      "Epoch 84/100\n",
      "23/23 [==============================] - 8s 347ms/step - loss: 0.5361 - accuracy: 0.8410 - val_loss: 0.8497 - val_accuracy: 0.8641\n",
      "Epoch 85/100\n",
      "23/23 [==============================] - 8s 352ms/step - loss: 0.5667 - accuracy: 0.8438 - val_loss: 0.8755 - val_accuracy: 0.8641\n",
      "Epoch 86/100\n",
      "23/23 [==============================] - 8s 348ms/step - loss: 0.5521 - accuracy: 0.8370 - val_loss: 0.8610 - val_accuracy: 0.8641\n",
      "Epoch 87/100\n",
      "23/23 [==============================] - 9s 401ms/step - loss: 0.5349 - accuracy: 0.8424 - val_loss: 0.8483 - val_accuracy: 0.8641\n",
      "Epoch 88/100\n",
      "23/23 [==============================] - 292s 13s/step - loss: 0.5679 - accuracy: 0.8356 - val_loss: 0.8693 - val_accuracy: 0.8641\n",
      "Epoch 89/100\n",
      "23/23 [==============================] - 9s 378ms/step - loss: 0.5380 - accuracy: 0.8465 - val_loss: 0.8467 - val_accuracy: 0.8641\n",
      "Epoch 90/100\n",
      "23/23 [==============================] - 8s 358ms/step - loss: 0.5108 - accuracy: 0.8601 - val_loss: 0.8734 - val_accuracy: 0.8641\n",
      "Epoch 91/100\n",
      "23/23 [==============================] - 8s 350ms/step - loss: 0.5469 - accuracy: 0.8438 - val_loss: 0.8702 - val_accuracy: 0.8641\n",
      "Epoch 92/100\n",
      "23/23 [==============================] - 8s 353ms/step - loss: 0.5067 - accuracy: 0.8478 - val_loss: 0.8616 - val_accuracy: 0.8641\n",
      "Epoch 93/100\n",
      "23/23 [==============================] - 8s 349ms/step - loss: 0.5488 - accuracy: 0.8397 - val_loss: 0.8753 - val_accuracy: 0.8641\n",
      "Epoch 94/100\n",
      "23/23 [==============================] - 8s 346ms/step - loss: 0.4837 - accuracy: 0.8492 - val_loss: 0.8578 - val_accuracy: 0.8641\n",
      "Epoch 95/100\n",
      "23/23 [==============================] - 8s 353ms/step - loss: 0.5202 - accuracy: 0.8397 - val_loss: 0.8836 - val_accuracy: 0.8641\n",
      "Epoch 96/100\n",
      "23/23 [==============================] - 8s 346ms/step - loss: 0.4995 - accuracy: 0.8424 - val_loss: 0.8654 - val_accuracy: 0.8641\n",
      "Epoch 97/100\n",
      "23/23 [==============================] - 8s 353ms/step - loss: 0.5207 - accuracy: 0.8546 - val_loss: 0.8575 - val_accuracy: 0.8641\n",
      "Epoch 98/100\n",
      "23/23 [==============================] - 8s 348ms/step - loss: 0.5097 - accuracy: 0.8492 - val_loss: 0.8696 - val_accuracy: 0.8641\n",
      "Epoch 99/100\n",
      "23/23 [==============================] - 8s 349ms/step - loss: 0.5334 - accuracy: 0.8546 - val_loss: 0.8624 - val_accuracy: 0.8641\n",
      "Epoch 100/100\n",
      "23/23 [==============================] - 8s 361ms/step - loss: 0.4953 - accuracy: 0.8478 - val_loss: 0.8802 - val_accuracy: 0.8641\n"
     ]
    }
   ],
   "source": [
    "from keras import backend as K\n",
    "\n",
    "callback = tf.keras.callbacks.EarlyStopping(patience=10, \n",
    "                          verbose=1, \n",
    "                          min_delta=0.001, \n",
    "                          monitor='val_prc', \n",
    "                          mode='max', \n",
    "                          restore_best_weights=True)\n",
    "\n",
    "model.compile(loss='sparse_categorical_crossentropy', optimizer='nadam', metrics=['accuracy'])\n",
    "K.set_value(model.optimizer.learning_rate, 0.001)\n",
    "\n",
    "history = model.fit(Xtrain,\n",
    "          ytrain,\n",
    "          epochs=100,\n",
    "          validation_data=(Xtest, ytest))"
   ]
  },
  {
   "cell_type": "code",
   "execution_count": 129,
   "metadata": {},
   "outputs": [
    {
     "data": {
      "text/plain": [
       "Text(0.5, 1.0, 'Loss')"
      ]
     },
     "execution_count": 129,
     "metadata": {},
     "output_type": "execute_result"
    },
    {
     "data": {
      "image/png": "[encoded data removed]",
      "text/plain": [
       "<Figure size 1500x500 with 2 Axes>"
      ]
     },
     "metadata": {},
     "output_type": "display_data"
    }
   ],
   "source": [
    "import matplotlib.pyplot as plt\n",
    "plt.figure(figsize = (15,5))\n",
    "plt.subplot(1,2,1)\n",
    "plt.title('Accuracy')\n",
    "plt.plot(history.history['accuracy'], label = 'training acc')\n",
    "plt.plot(history.history['val_accuracy'], label = 'validation acc')\n",
    "plt.legend()\n",
    "plt.subplot(1,2,2)\n",
    "plt.plot(history.history['loss'], label = 'training loss')\n",
    "plt.plot(history.history['val_loss'], label = 'validation loss')\n",
    "plt.legend()\n",
    "plt.title('Loss')"
   ]
  },
  {
   "cell_type": "code",
   "execution_count": 130,
   "metadata": {},
   "outputs": [
    {
     "name": "stdout",
     "output_type": "stream",
     "text": [
      "Evaluate model on test data\n",
      "6/6 [==============================] - 0s 79ms/step - loss: 0.8802 - accuracy: 0.8641\n",
      "test loss, test acc: [0.8802042603492737, 0.864130437374115]\n"
     ]
    }
   ],
   "source": [
    "print(\"Evaluate model on test data\")\n",
    "results = model.evaluate(Xtest, ytest)\n",
    "print(\"test loss, test acc:\", results)"
   ]
  },
  {
   "cell_type": "code",
   "execution_count": 131,
   "metadata": {},
   "outputs": [
    {
     "name": "stdout",
     "output_type": "stream",
     "text": [
      "6/6 [==============================] - 1s 78ms/step\n"
     ]
    },
    {
     "data": {
      "text/plain": [
       "array([[159,   0,   0],\n",
       "       [  7,   0,   0],\n",
       "       [ 18,   0,   0]])"
      ]
     },
     "execution_count": 131,
     "metadata": {},
     "output_type": "execute_result"
    }
   ],
   "source": [
    "from sklearn.metrics import classification_report, confusion_matrix\n",
    "y_predict = model.predict(Xtest)\n",
    "y_predict = np.argmax(y_predict,axis=1)\n",
    "confusion_matrix(ytest, y_predict)"
   ]
  },
  {
   "cell_type": "code",
   "execution_count": 132,
   "metadata": {},
   "outputs": [
    {
     "name": "stdout",
     "output_type": "stream",
     "text": [
      "                       precision    recall  f1-score   support\n",
      "\n",
      "                 COPD       0.86      1.00      0.93       159\n",
      "              Healthy       0.00      0.00      0.00         7\n",
      "respiratory_infection       0.00      0.00      0.00        18\n",
      "\n",
      "             accuracy                           0.86       184\n",
      "            macro avg       0.29      0.33      0.31       184\n",
      "         weighted avg       0.75      0.86      0.80       184\n",
      "\n"
     ]
    },
    {
     "name": "stderr",
     "output_type": "stream",
     "text": [
      "/Users/bastienorset/Documents/git/respiratory_sound/.venv/lib/python3.10/site-packages/sklearn/metrics/_classification.py:1334: UndefinedMetricWarning: Precision and F-score are ill-defined and being set to 0.0 in labels with no predicted samples. Use `zero_division` parameter to control this behavior.\n",
      "  _warn_prf(average, modifier, msg_start, len(result))\n",
      "/Users/bastienorset/Documents/git/respiratory_sound/.venv/lib/python3.10/site-packages/sklearn/metrics/_classification.py:1334: UndefinedMetricWarning: Precision and F-score are ill-defined and being set to 0.0 in labels with no predicted samples. Use `zero_division` parameter to control this behavior.\n",
      "  _warn_prf(average, modifier, msg_start, len(result))\n",
      "/Users/bastienorset/Documents/git/respiratory_sound/.venv/lib/python3.10/site-packages/sklearn/metrics/_classification.py:1334: UndefinedMetricWarning: Precision and F-score are ill-defined and being set to 0.0 in labels with no predicted samples. Use `zero_division` parameter to control this behavior.\n",
      "  _warn_prf(average, modifier, msg_start, len(result))\n"
     ]
    }
   ],
   "source": [
    "print(classification_report(ytest, y_predict, target_names=le.classes_))"
   ]
  },
  {
   "cell_type": "code",
   "execution_count": null,
   "metadata": {},
   "outputs": [],
   "source": []
  }
 ],
 "metadata": {
  "kernelspec": {
   "display_name": "Python 3.10.6 ('.venv': poetry)",
   "language": "python",
   "name": "python3"
  },
  "language_info": {
   "codemirror_mode": {
    "name": "ipython",
    "version": 3
   },
   "file_extension": ".py",
   "mimetype": "text/x-python",
   "name": "python",
   "nbconvert_exporter": "python",
   "pygments_lexer": "ipython3",
   "version": "3.10.6"
  },
  "orig_nbformat": 4,
  "vscode": {
   "interpreter": {
    "hash": "740509af84ee3128d88333a1002968296ddbc89ee8b431d0c0cb3d6651593e8e"
   }
  }
 },
 "nbformat": 4,
 "nbformat_minor": 2
}
