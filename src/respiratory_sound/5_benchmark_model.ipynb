{
 "cells": [
  {
   "cell_type": "code",
   "execution_count": 11,
   "metadata": {},
   "outputs": [],
   "source": [
    "import pandas as pd\n",
    "import numpy as np\n",
    "\n",
    "from sklearn.metrics import classification_report, confusion_matrix\n",
    "from sklearn.model_selection import cross_val_score\n",
    "from sklearn.metrics import classification_report, accuracy_score, make_scorer\n",
    "from sklearn.ensemble import RandomForestClassifier\n",
    "from sklearn.model_selection import StratifiedKFold"
   ]
  },
  {
   "cell_type": "code",
   "execution_count": 12,
   "metadata": {},
   "outputs": [],
   "source": [
    "def classification_report_with_accuracy_score(y_true, y_pred):\n",
    "    originalclass.extend(y_true)\n",
    "    predictedclass.extend(y_pred)\n",
    "    return accuracy_score(y_true, y_pred) # return accuracy score"
   ]
  },
  {
   "cell_type": "code",
   "execution_count": 13,
   "metadata": {},
   "outputs": [
    {
     "data": {
      "text/plain": [
       "Index(['Unnamed: 0', 'Participant_ID', 'Age', 'Sex', 'Adult BMI (kg/m2)',\n",
       "       'Child Weight (kg)', 'Child Height (cm)', 'Outcome', 'filename',\n",
       "       'train_test_split', 'wheeze', 'crackle', 'recording_type'],\n",
       "      dtype='object')"
      ]
     },
     "execution_count": 13,
     "metadata": {},
     "output_type": "execute_result"
    }
   ],
   "source": [
    "df_info = pd.read_csv('../../data/info_dataset.csv')\n",
    "df_info.columns"
   ]
  },
  {
   "cell_type": "code",
   "execution_count": 14,
   "metadata": {},
   "outputs": [
    {
     "data": {
      "text/plain": [
       "COPD              793\n",
       "Pneumonia          37\n",
       "Healthy            35\n",
       "URTI               23\n",
       "Bronchiectasis     16\n",
       "Bronchiolitis      13\n",
       "LRTI                2\n",
       "Asthma              1\n",
       "Name: Outcome, dtype: int64"
      ]
     },
     "execution_count": 14,
     "metadata": {},
     "output_type": "execute_result"
    }
   ],
   "source": [
    "df_info['Outcome'].value_counts()"
   ]
  },
  {
   "cell_type": "code",
   "execution_count": 15,
   "metadata": {},
   "outputs": [],
   "source": [
    "label_tochange = ['Pneumonia','URTI','Bronchiectasis','Bronchiolitis','LRTI','Asthma']\n",
    "df_info['Outcome'] = df_info['Outcome'].replace(label_tochange,'Respiratory_infection')"
   ]
  },
  {
   "cell_type": "code",
   "execution_count": 16,
   "metadata": {},
   "outputs": [],
   "source": [
    "\n",
    "skf = StratifiedKFold(n_splits=10)\n",
    "X=df_info[['wheeze','crackle']]\n",
    "y = df_info.Outcome"
   ]
  },
  {
   "cell_type": "code",
   "execution_count": 32,
   "metadata": {},
   "outputs": [],
   "source": [
    "clf  = RandomForestClassifier(\n",
    "    n_estimators=1000,\n",
    "    max_depth=10,\n",
    "    class_weight = 'balanced', \n",
    "    )"
   ]
  },
  {
   "cell_type": "code",
   "execution_count": 33,
   "metadata": {},
   "outputs": [
    {
     "name": "stdout",
     "output_type": "stream",
     "text": [
      "                       precision    recall  f1-score   support\n",
      "\n",
      "                 COPD       0.93      0.60      0.73       793\n",
      "              Healthy       0.10      0.86      0.18        35\n",
      "Respiratory_infection       0.10      0.12      0.11        92\n",
      "\n",
      "             accuracy                           0.56       920\n",
      "            macro avg       0.38      0.52      0.34       920\n",
      "         weighted avg       0.81      0.56      0.64       920\n",
      "\n"
     ]
    }
   ],
   "source": [
    "cv =  skf.split(X, y)\n",
    "originalclass = []\n",
    "predictedclass = []\n",
    "score = cross_val_score(clf, X=X, y=y, cv=cv, scoring=make_scorer(classification_report_with_accuracy_score))\n",
    "\n",
    "c = classification_report(originalclass, predictedclass)\n",
    "print(c)"
   ]
  },
  {
   "cell_type": "code",
   "execution_count": 34,
   "metadata": {},
   "outputs": [
    {
     "name": "stdout",
     "output_type": "stream",
     "text": [
      "[[474 224  95]\n",
      " [  3  30   2]\n",
      " [ 35  46  11]]\n"
     ]
    }
   ],
   "source": [
    "print(confusion_matrix(originalclass,predictedclass))"
   ]
  }
 ],
 "metadata": {
  "kernelspec": {
   "display_name": "Python 3.10.6 ('.venv': poetry)",
   "language": "python",
   "name": "python3"
  },
  "language_info": {
   "codemirror_mode": {
    "name": "ipython",
    "version": 3
   },
   "file_extension": ".py",
   "mimetype": "text/x-python",
   "name": "python",
   "nbconvert_exporter": "python",
   "pygments_lexer": "ipython3",
   "version": "3.10.6"
  },
  "orig_nbformat": 4,
  "vscode": {
   "interpreter": {
    "hash": "740509af84ee3128d88333a1002968296ddbc89ee8b431d0c0cb3d6651593e8e"
   }
  }
 },
 "nbformat": 4,
 "nbformat_minor": 2
}
