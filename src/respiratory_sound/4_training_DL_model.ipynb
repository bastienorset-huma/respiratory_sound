{
 "cells": [
  {
   "cell_type": "code",
   "execution_count": 1,
   "metadata": {},
   "outputs": [],
   "source": [
    "import os \n",
    "import pandas as pd\n",
    "import pickle\n",
    "import tensorflow as tf\n",
    "import numpy as np\n",
    "\n",
    "from sklearn.preprocessing import LabelEncoder\n",
    "from sklearn.model_selection import train_test_split\n",
    "\n",
    "import tensorflow as tf\n",
    "from tensorflow.keras import utils \n",
    "from tensorflow.keras import layers\n",
    "from tensorflow.keras import models\n",
    "\n"
   ]
  },
  {
   "cell_type": "code",
   "execution_count": 2,
   "metadata": {},
   "outputs": [],
   "source": [
    "with open('../../data/data_model/data_dict.pkl','rb') as f:\n",
    "    data = pickle.load(f) "
   ]
  },
  {
   "cell_type": "code",
   "execution_count": 3,
   "metadata": {},
   "outputs": [],
   "source": [
    "mapping_label =['Bronchiectasis','Bronchiolitis', 'LRTI', 'Pneumonia','URTI','Asthma']\n",
    "\n",
    "X=data['features']\n",
    "y = pd.Series(data['label'])\n",
    "y = y.replace(mapping_label,'respiratory_infection')\n",
    "y = y.values\n",
    "\n",
    "le=LabelEncoder()\n",
    "y=le.fit_transform(y)"
   ]
  },
  {
   "cell_type": "code",
   "execution_count": 4,
   "metadata": {},
   "outputs": [],
   "source": [
    "X = np.reshape(X, (*X.shape,1))"
   ]
  },
  {
   "cell_type": "code",
   "execution_count": 5,
   "metadata": {},
   "outputs": [],
   "source": [
    "Xtrain, Xtest, ytrain, ytest = train_test_split(X, y, test_size=0.4, stratify=y)"
   ]
  },
  {
   "cell_type": "code",
   "execution_count": 7,
   "metadata": {},
   "outputs": [
    {
     "name": "stdout",
     "output_type": "stream",
     "text": [
      "Train 0 476\n",
      "Test 0 317\n",
      "Train 1 21\n",
      "Test 1 14\n",
      "Train 2 55\n",
      "Test 2 37\n"
     ]
    }
   ],
   "source": [
    "for i in range(3):\n",
    "    print('Train',i,np.sum(ytrain == i))\n",
    "    print('Test',i,np.sum(ytest == i))"
   ]
  },
  {
   "cell_type": "markdown",
   "metadata": {},
   "source": [
    "<h1> Deep Learning Model<h1>"
   ]
  },
  {
   "cell_type": "code",
   "execution_count": 8,
   "metadata": {},
   "outputs": [
    {
     "name": "stdout",
     "output_type": "stream",
     "text": [
      "(77, 674, 1) 3\n"
     ]
    }
   ],
   "source": [
    "input_shape = X.shape[1:]\n",
    "n_classes= len(le.classes_)\n",
    "print(input_shape,n_classes)"
   ]
  },
  {
   "cell_type": "code",
   "execution_count": 9,
   "metadata": {},
   "outputs": [],
   "source": [
    "\n",
    "filter_size = 2\n",
    "# Construct model \n",
    "model = models.Sequential()\n",
    "model.add(layers.Conv2D(filters=16, kernel_size=filter_size,\n",
    "                 input_shape=input_shape, activation='relu'))\n",
    "model.add(layers.Dropout(0.2))\n",
    "\n",
    "model.add(layers.Conv2D(filters=32, kernel_size=filter_size, activation='relu'))\n",
    "model.add(layers.Dropout(0.2))\n",
    "\n",
    "model.add(layers.Conv2D(filters=64, kernel_size=filter_size, activation='relu'))\n",
    "model.add(layers.Dropout(0.2))\n",
    "\n",
    "model.add(layers.Conv2D(filters=128, kernel_size=filter_size, activation='relu'))\n",
    "model.add(layers.MaxPooling2D(pool_size=2))\n",
    "model.add(layers.Dropout(0.2))\n",
    "\n",
    "model.add(layers.Flatten())\n",
    "model.add(layers.Dense(1024))\n",
    "model.add(layers.Dense(512))\n",
    "model.add(layers.Dense(64))\n",
    "model.add(layers.Dense(3, activation='softmax')) "
   ]
  },
  {
   "cell_type": "code",
   "execution_count": null,
   "metadata": {},
   "outputs": [],
   "source": [
    "model.summary()\n"
   ]
  },
  {
   "cell_type": "code",
   "execution_count": null,
   "metadata": {},
   "outputs": [],
   "source": [
    "from keras import backend as K\n",
    "\n",
    "callback = tf.keras.callbacks.EarlyStopping(patience=3, \n",
    "                          verbose=1, \n",
    "                          min_delta=0.001, \n",
    "                          monitor='val_loss', \n",
    "                          mode='auto', \n",
    "                          restore_best_weights=True)\n",
    "\n",
    "model.compile(loss='sparse_categorical_crossentropy', optimizer='nadam', metrics=['accuracy'])\n",
    "K.set_value(model.optimizer.learning_rate, 0.001)\n",
    "\n",
    "history = model.fit(Xtrain,\n",
    "          ytrain,\n",
    "          epochs=100,\n",
    "          batch_size=128,\n",
    "          validation_data=(Xtest, ytest))"
   ]
  },
  {
   "cell_type": "code",
   "execution_count": null,
   "metadata": {},
   "outputs": [],
   "source": [
    "import matplotlib.pyplot as plt\n",
    "plt.figure(figsize = (15,5))\n",
    "plt.subplot(1,2,1)\n",
    "plt.title('Accuracy')\n",
    "plt.plot(history.history['accuracy'], label = 'training acc')\n",
    "plt.plot(history.history['val_accuracy'], label = 'validation acc')\n",
    "plt.legend()\n",
    "plt.subplot(1,2,2)\n",
    "plt.plot(history.history['loss'], label = 'training loss')\n",
    "plt.plot(history.history['val_loss'], label = 'validation loss')\n",
    "plt.legend()\n",
    "plt.title('Loss')"
   ]
  },
  {
   "cell_type": "code",
   "execution_count": null,
   "metadata": {},
   "outputs": [],
   "source": [
    "print(\"Evaluate model on test data\")\n",
    "results = model.evaluate(Xtest, ytest)\n",
    "print(\"test loss, test acc:\", results)"
   ]
  },
  {
   "cell_type": "code",
   "execution_count": null,
   "metadata": {},
   "outputs": [],
   "source": [
    "from sklearn.metrics import classification_report, confusion_matrix\n",
    "y_predict = model.predict(Xtest)\n",
    "y_predict = np.argmax(y_predict,axis=1)\n",
    "confusion_matrix(ytest, y_predict)"
   ]
  },
  {
   "cell_type": "code",
   "execution_count": null,
   "metadata": {},
   "outputs": [],
   "source": [
    "print(classification_report(ytest, y_predict, target_names=le.classes_))"
   ]
  },
  {
   "cell_type": "code",
   "execution_count": null,
   "metadata": {},
   "outputs": [],
   "source": []
  }
 ],
 "metadata": {
  "kernelspec": {
   "display_name": "Python 3.10.6 ('.venv': poetry)",
   "language": "python",
   "name": "python3"
  },
  "language_info": {
   "codemirror_mode": {
    "name": "ipython",
    "version": 3
   },
   "file_extension": ".py",
   "mimetype": "text/x-python",
   "name": "python",
   "nbconvert_exporter": "python",
   "pygments_lexer": "ipython3",
   "version": "3.10.6"
  },
  "orig_nbformat": 4,
  "vscode": {
   "interpreter": {
    "hash": "740509af84ee3128d88333a1002968296ddbc89ee8b431d0c0cb3d6651593e8e"
   }
  }
 },
 "nbformat": 4,
 "nbformat_minor": 2
}
