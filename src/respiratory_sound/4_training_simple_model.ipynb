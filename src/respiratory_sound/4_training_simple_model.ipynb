{
 "cells": [
  {
   "cell_type": "code",
   "execution_count": 10,
   "metadata": {},
   "outputs": [],
   "source": [
    "import os \n",
    "import pandas as pd\n",
    "import numpy as np\n",
    "import pickle \n",
    "from sklearn.ensemble import RandomForestClassifier\n",
    "from sklearn.metrics import classification_report\n",
    "from sklearn.model_selection import cross_val_score\n",
    "from sklearn.metrics import classification_report, accuracy_score, make_scorer"
   ]
  },
  {
   "cell_type": "code",
   "execution_count": 11,
   "metadata": {},
   "outputs": [],
   "source": [
    "def classification_report_with_accuracy_score(y_true, y_pred):\n",
    "    originalclass.extend(y_true)\n",
    "    predictedclass.extend(y_pred)\n",
    "    return accuracy_score(y_true, y_pred) # return accuracy score\n"
   ]
  },
  {
   "cell_type": "markdown",
   "metadata": {},
   "source": [
    "<h1> Training ML <h1>"
   ]
  },
  {
   "cell_type": "code",
   "execution_count": 12,
   "metadata": {},
   "outputs": [],
   "source": [
    "mapping_label =['Bronchiectasis','Bronchiolitis', 'LRTI', 'Pneumonia','URTI']"
   ]
  },
  {
   "cell_type": "code",
   "execution_count": 13,
   "metadata": {},
   "outputs": [],
   "source": [
    "with open('../../data/data_model/data_dict.pkl','rb') as f:\n",
    "    data = pickle.load(f)"
   ]
  },
  {
   "cell_type": "code",
   "execution_count": 171,
   "metadata": {},
   "outputs": [],
   "source": [
    "df.filename = df.filename.apply(lambda x :x. split('/')[-1])\n",
    "df.filename = df.filename.apply(lambda x :x. split('.')[0])"
   ]
  },
  {
   "cell_type": "code",
   "execution_count": 172,
   "metadata": {},
   "outputs": [],
   "source": [
    "df = df.merge(df_info,on='filename',how='inner')\n",
    "df = df.drop(columns = ['Age','Sex','train_test_split','label','Participant_ID','filename','Adult BMI (kg/m2)','Child Weight (kg)','Child Height (cm)','wheeze','crackle'])"
   ]
  },
  {
   "cell_type": "code",
   "execution_count": 173,
   "metadata": {},
   "outputs": [],
   "source": [
    "df.columns = df.columns.str.replace('delta-mfcc','m1fcc')\n",
    "df.columns = df.columns.str.replace('delta2-mfcc','m2fcc')"
   ]
  },
  {
   "cell_type": "code",
   "execution_count": 174,
   "metadata": {},
   "outputs": [
    {
     "data": {
      "text/plain": [
       "COPD                     793\n",
       "Respiratory_infection     91\n",
       "Healthy                   35\n",
       "Name: Outcome, dtype: int64"
      ]
     },
     "execution_count": 174,
     "metadata": {},
     "output_type": "execute_result"
    }
   ],
   "source": [
    "df.Outcome.value_counts()"
   ]
  },
  {
   "cell_type": "code",
   "execution_count": 175,
   "metadata": {},
   "outputs": [],
   "source": [
    "from sklearn.model_selection import StratifiedKFold\n",
    "skf = StratifiedKFold(n_splits=10)\n",
    "X=df.drop('Outcome', axis=1)\n",
    "y = df.Outcome"
   ]
  },
  {
   "cell_type": "code",
   "execution_count": 176,
   "metadata": {},
   "outputs": [],
   "source": [
    "clf = RandomForestClassifier(n_estimators = 500, \n",
    "    max_depth=2,\n",
    "    class_weight = 'balanced', \n",
    "    random_state=0\n",
    "    )"
   ]
  },
  {
   "cell_type": "code",
   "execution_count": 177,
   "metadata": {},
   "outputs": [
    {
     "data": {
      "text/plain": [
       "0"
      ]
     },
     "execution_count": 177,
     "metadata": {},
     "output_type": "execute_result"
    }
   ],
   "source": [
    "list_feat = [col for col in X.columns if 'o-mfcc' in col]\n",
    "len(list_feat)"
   ]
  },
  {
   "cell_type": "code",
   "execution_count": 179,
   "metadata": {},
   "outputs": [
    {
     "name": "stdout",
     "output_type": "stream",
     "text": [
      "rmse (919, 65)\n",
      "                       precision    recall  f1-score   support\n",
      "\n",
      "                 COPD       0.98      0.93      0.96       793\n",
      "              Healthy       0.41      0.57      0.48        35\n",
      "Respiratory_infection       0.50      0.63      0.55        91\n",
      "\n",
      "             accuracy                           0.89       919\n",
      "            macro avg       0.63      0.71      0.66       919\n",
      "         weighted avg       0.91      0.89      0.90       919\n",
      "\n",
      "chroma_stft (919, 65)\n",
      "                       precision    recall  f1-score   support\n",
      "\n",
      "                 COPD       0.98      0.94      0.96       793\n",
      "              Healthy       0.35      0.51      0.42        35\n",
      "Respiratory_infection       0.50      0.60      0.55        91\n",
      "\n",
      "             accuracy                           0.89       919\n",
      "            macro avg       0.61      0.69      0.64       919\n",
      "         weighted avg       0.91      0.89      0.90       919\n",
      "\n",
      "spectral_centroid (919, 65)\n",
      "                       precision    recall  f1-score   support\n",
      "\n",
      "                 COPD       0.98      0.94      0.96       793\n",
      "              Healthy       0.38      0.57      0.46        35\n",
      "Respiratory_infection       0.51      0.63      0.56        91\n",
      "\n",
      "             accuracy                           0.89       919\n",
      "            macro avg       0.63      0.71      0.66       919\n",
      "         weighted avg       0.91      0.89      0.90       919\n",
      "\n",
      "spectral_bandwidth (919, 65)\n",
      "                       precision    recall  f1-score   support\n",
      "\n",
      "                 COPD       0.98      0.94      0.96       793\n",
      "              Healthy       0.38      0.57      0.46        35\n",
      "Respiratory_infection       0.51      0.63      0.56        91\n",
      "\n",
      "             accuracy                           0.89       919\n",
      "            macro avg       0.63      0.71      0.66       919\n",
      "         weighted avg       0.91      0.89      0.90       919\n",
      "\n",
      "rolloff (919, 65)\n",
      "                       precision    recall  f1-score   support\n",
      "\n",
      "                 COPD       0.98      0.94      0.96       793\n",
      "              Healthy       0.38      0.57      0.46        35\n",
      "Respiratory_infection       0.51      0.63      0.56        91\n",
      "\n",
      "             accuracy                           0.89       919\n",
      "            macro avg       0.63      0.71      0.66       919\n",
      "         weighted avg       0.91      0.89      0.90       919\n",
      "\n",
      "zero_crossing_rate (919, 65)\n",
      "                       precision    recall  f1-score   support\n",
      "\n",
      "                 COPD       0.98      0.94      0.96       793\n",
      "              Healthy       0.39      0.54      0.45        35\n",
      "Respiratory_infection       0.52      0.65      0.58        91\n",
      "\n",
      "             accuracy                           0.89       919\n",
      "            macro avg       0.63      0.71      0.66       919\n",
      "         weighted avg       0.91      0.89      0.90       919\n",
      "\n",
      "mfcc (919, 46)\n",
      "                       precision    recall  f1-score   support\n",
      "\n",
      "                 COPD       0.98      0.94      0.96       793\n",
      "              Healthy       0.38      0.60      0.47        35\n",
      "Respiratory_infection       0.51      0.54      0.52        91\n",
      "\n",
      "             accuracy                           0.89       919\n",
      "            macro avg       0.62      0.69      0.65       919\n",
      "         weighted avg       0.91      0.89      0.90       919\n",
      "\n",
      "m1fcc (919, 46)\n",
      "                       precision    recall  f1-score   support\n",
      "\n",
      "                 COPD       0.98      0.93      0.96       793\n",
      "              Healthy       0.41      0.60      0.49        35\n",
      "Respiratory_infection       0.53      0.66      0.59        91\n",
      "\n",
      "             accuracy                           0.89       919\n",
      "            macro avg       0.64      0.73      0.68       919\n",
      "         weighted avg       0.92      0.89      0.90       919\n",
      "\n",
      "m2fcc (919, 46)\n",
      "                       precision    recall  f1-score   support\n",
      "\n",
      "                 COPD       0.98      0.86      0.91       793\n",
      "              Healthy       0.25      0.40      0.31        35\n",
      "Respiratory_infection       0.36      0.66      0.47        91\n",
      "\n",
      "             accuracy                           0.82       919\n",
      "            macro avg       0.53      0.64      0.56       919\n",
      "         weighted avg       0.89      0.82      0.85       919\n",
      "\n"
     ]
    }
   ],
   "source": [
    "list_feature_type= ['rmse', 'chroma_stft','spectral_centroid', 'spectral_bandwidth', 'rolloff', 'zero_crossing_rate','mfcc','m1fcc','m2fcc']\n",
    "result = []\n",
    "for col_feat in list_feature_type:\n",
    "    list_feat = [col for col in X.columns if col_feat not in col]\n",
    "    X_feat = X[list_feat].copy()\n",
    "    print(col_feat, X_feat.shape)\n",
    "    \n",
    "    cv =  skf.split(X_feat, y)\n",
    "    originalclass = []\n",
    "    predictedclass = []\n",
    "    score = cross_val_score(clf, X=X_feat, y=y, cv=cv, scoring=make_scorer(classification_report_with_accuracy_score))\n",
    "    \n",
    "    c = classification_report(originalclass, predictedclass)\n",
    "    print(c) "
   ]
  },
  {
   "cell_type": "code",
   "execution_count": 182,
   "metadata": {},
   "outputs": [
    {
     "name": "stdout",
     "output_type": "stream",
     "text": [
      "mfcc (919, 20)\n",
      "                       precision    recall  f1-score   support\n",
      "\n",
      "                 COPD       0.98      0.78      0.87       793\n",
      "              Healthy       0.19      0.46      0.26        35\n",
      "Respiratory_infection       0.31      0.69      0.43        91\n",
      "\n",
      "             accuracy                           0.76       919\n",
      "            macro avg       0.49      0.64      0.52       919\n",
      "         weighted avg       0.89      0.76      0.80       919\n",
      "\n"
     ]
    }
   ],
   "source": [
    "col_feat = 'mfcc'\n",
    "list_feat = [col for col in X.columns if col_feat in col]\n",
    "X_feat = X[list_feat].copy()\n",
    "print(col_feat, X_feat.shape)\n",
    "\n",
    "cv =  skf.split(X_feat, y)\n",
    "originalclass = []\n",
    "predictedclass = []\n",
    "score = cross_val_score(clf, X=X_feat, y=y, cv=cv, scoring=make_scorer(classification_report_with_accuracy_score))\n",
    "\n",
    "c = classification_report(originalclass, predictedclass)\n",
    "print(c)"
   ]
  },
  {
   "cell_type": "code",
   "execution_count": 183,
   "metadata": {},
   "outputs": [
    {
     "name": "stdout",
     "output_type": "stream",
     "text": [
      "m2fcc (919, 20)\n",
      "                       precision    recall  f1-score   support\n",
      "\n",
      "                 COPD       0.97      0.94      0.95       793\n",
      "              Healthy       0.25      0.49      0.33        35\n",
      "Respiratory_infection       0.45      0.44      0.45        91\n",
      "\n",
      "             accuracy                           0.87       919\n",
      "            macro avg       0.56      0.62      0.58       919\n",
      "         weighted avg       0.89      0.87      0.88       919\n",
      "\n"
     ]
    }
   ],
   "source": [
    "col_feat = 'm2fcc'\n",
    "list_feat = [col for col in X.columns if col_feat in col]\n",
    "X_feat = X[list_feat].copy()\n",
    "print(col_feat, X_feat.shape)\n",
    "\n",
    "cv =  skf.split(X_feat, y)\n",
    "originalclass = []\n",
    "predictedclass = []\n",
    "score = cross_val_score(clf, X=X_feat, y=y, cv=cv, scoring=make_scorer(classification_report_with_accuracy_score))\n",
    "\n",
    "c = classification_report(originalclass, predictedclass)\n",
    "print(c)"
   ]
  },
  {
   "cell_type": "code",
   "execution_count": 184,
   "metadata": {},
   "outputs": [
    {
     "name": "stdout",
     "output_type": "stream",
     "text": [
      "m1fcc (919, 20)\n",
      "                       precision    recall  f1-score   support\n",
      "\n",
      "                 COPD       0.97      0.83      0.89       793\n",
      "              Healthy       0.15      0.20      0.17        35\n",
      "Respiratory_infection       0.30      0.64      0.41        91\n",
      "\n",
      "             accuracy                           0.78       919\n",
      "            macro avg       0.47      0.55      0.49       919\n",
      "         weighted avg       0.87      0.78      0.82       919\n",
      "\n"
     ]
    }
   ],
   "source": [
    "col_feat = 'm1fcc'\n",
    "list_feat = [col for col in X.columns if col_feat in col]\n",
    "X_feat = X[list_feat].copy()\n",
    "print(col_feat, X_feat.shape)\n",
    "\n",
    "cv =  skf.split(X_feat, y)\n",
    "originalclass = []\n",
    "predictedclass = []\n",
    "score = cross_val_score(clf, X=X_feat, y=y, cv=cv, scoring=make_scorer(classification_report_with_accuracy_score))\n",
    "\n",
    "c = classification_report(originalclass, predictedclass)\n",
    "print(c)"
   ]
  },
  {
   "cell_type": "code",
   "execution_count": 185,
   "metadata": {},
   "outputs": [
    {
     "name": "stdout",
     "output_type": "stream",
     "text": [
      "                       precision    recall  f1-score   support\n",
      "\n",
      "                 COPD       0.98      0.94      0.96       793\n",
      "              Healthy       0.40      0.54      0.46        35\n",
      "Respiratory_infection       0.51      0.64      0.57        91\n",
      "\n",
      "             accuracy                           0.89       919\n",
      "            macro avg       0.63      0.71      0.66       919\n",
      "         weighted avg       0.91      0.89      0.90       919\n",
      "\n"
     ]
    }
   ],
   "source": [
    "cv =  skf.split(X_feat, y)\n",
    "originalclass = []\n",
    "predictedclass = []\n",
    "score = cross_val_score(clf, X=X, y=y, cv=cv, scoring=make_scorer(classification_report_with_accuracy_score))\n",
    "\n",
    "c = classification_report(originalclass, predictedclass)\n",
    "print(c)"
   ]
  },
  {
   "cell_type": "code",
   "execution_count": 190,
   "metadata": {},
   "outputs": [],
   "source": [
    "from sklearn.metrics import confusion_matrix, plot_confusion_matrix\n",
    " \n",
    "x = confusion_matrix(originalclass, predictedclass)"
   ]
  },
  {
   "cell_type": "code",
   "execution_count": 192,
   "metadata": {},
   "outputs": [
    {
     "data": {
      "text/plain": [
       "<AxesSubplot: >"
      ]
     },
     "execution_count": 192,
     "metadata": {},
     "output_type": "execute_result"
    },
    {
     "data": {
      "image/png": "[encoded data removed]",
      "text/plain": [
       "<Figure size 1000x700 with 2 Axes>"
      ]
     },
     "metadata": {},
     "output_type": "display_data"
    }
   ],
   "source": [
    "import matplotlib.pyplot as plt\n",
    "import seaborn as sns\n",
    "\n",
    "df_cm = pd.DataFrame(x, index = [i for i in \"012\"],\n",
    "                  columns = [i for i in \"012\"])\n",
    "plt.figure(figsize = (10,7))\n",
    "# plt.figure(figsize=(10,7))\n",
    "sns.set(font_scale=1.4) # for label size\n",
    "sns.heatmap(df_cm, annot=True, annot_kws={\"size\": 16}) # font size"
   ]
  },
  {
   "cell_type": "code",
   "execution_count": null,
   "metadata": {},
   "outputs": [],
   "source": []
  }
 ],
 "metadata": {
  "kernelspec": {
   "display_name": "Python 3.10.6 ('.venv': poetry)",
   "language": "python",
   "name": "python3"
  },
  "language_info": {
   "codemirror_mode": {
    "name": "ipython",
    "version": 3
   },
   "file_extension": ".py",
   "mimetype": "text/x-python",
   "name": "python",
   "nbconvert_exporter": "python",
   "pygments_lexer": "ipython3",
   "version": "3.10.6"
  },
  "orig_nbformat": 4,
  "vscode": {
   "interpreter": {
    "hash": "740509af84ee3128d88333a1002968296ddbc89ee8b431d0c0cb3d6651593e8e"
   }
  }
 },
 "nbformat": 4,
 "nbformat_minor": 2
}
